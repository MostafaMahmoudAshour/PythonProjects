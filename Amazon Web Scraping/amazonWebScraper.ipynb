{
 "cells": [
  {
   "cell_type": "code",
   "execution_count": 44,
   "metadata": {},
   "outputs": [],
   "source": [
    "# Import Libraries\n",
    "from bs4 import BeautifulSoup\n",
    "import requests\n",
    "import smtplib\n",
    "import time"
   ]
  },
  {
   "cell_type": "code",
   "execution_count": 42,
   "metadata": {
    "scrolled": true
   },
   "outputs": [],
   "source": [
    "# Connect To Website\n",
    "url = 'https://www.amazon.com/Be-Wild-Free-Market-Scientist/dp/B08471P8DV/ref=sr_1_1?crid=1L576Q5SL3TXW&keywords=funny+data+scientist+t+shirt&qid=1705745922&sprefix=data+scientist+t+shirt%2Caps%2C1646&sr=8-1'\n",
    "headers = {\"User-Agent\": \"Mozilla/5.0 (Windows NT 10.0; Win64; x64) AppleWebKit/537.36 (KHTML, like Gecko) Chrome/78.0.3904.108 Safari/537.36\", \"Accept-Encoding\":\"gzip, deflate\", \"Accept\":\"text/html,application/xhtml+xml,application/xml;q=0.9,*/*;q=0.8\", \"DNT\":\"1\",\"Connection\":\"close\", \"Upgrade-Insecure-Requests\":\"1\"}\n",
    "\n",
    "page = requests.get(url, headers=headers)\n",
    "soup1 = BeautifulSoup(page.content, 'html.parser')\n",
    "soup2 = BeautifulSoup(soup1.prettify(), 'html.parser')"
   ]
  },
  {
   "cell_type": "code",
   "execution_count": 43,
   "metadata": {},
   "outputs": [],
   "source": [
    "title = soup2.find(id='productTitle').get_text().strip()\n",
    "price = soup2.find(class_=\"a-offscreen\").get_text().strip()[1:]"
   ]
  },
  {
   "cell_type": "code",
   "execution_count": 45,
   "metadata": {},
   "outputs": [],
   "source": [
    "import datetime\n",
    "today = datetime.date.today()"
   ]
  },
  {
   "cell_type": "code",
   "execution_count": 37,
   "metadata": {},
   "outputs": [],
   "source": [
    "import csv\n",
    "\n",
    "headers = [\"Title\", \"Price\", \"Date\"]\n",
    "data = [title, price, today]\n",
    "\n",
    "#with open(\"AmazonWebScraperDataSet.csv\", \"w\", newline=\"\", encoding=\"UTF-8\") as f:\n",
    "    #writer = csv.writer(f)\n",
    "    #writer.writerow(headers)\n",
    "    #writer.writerow(data)"
   ]
  },
  {
   "cell_type": "code",
   "execution_count": 51,
   "metadata": {},
   "outputs": [
    {
     "name": "stdout",
     "output_type": "stream",
     "text": [
      "                                               Title  Price        Date\n",
      "0  Be Wild and Free Market Seize The Data T Shirt...  23.79  2024-01-20\n",
      "1  Be Wild and Free Market Seize The Data T Shirt...  23.79  2024-01-20\n"
     ]
    }
   ],
   "source": [
    "import pandas as pd\n",
    "def read_csv_file():\n",
    "    df = pd.read_csv(\"AmazonWebScraperDataSet.csv\")\n",
    "    print(df)\n",
    "read_csv_file()"
   ]
  },
  {
   "cell_type": "code",
   "execution_count": 40,
   "metadata": {},
   "outputs": [],
   "source": [
    "# Appending Data to the CSV\n",
    "\n",
    "with open(\"AmazonWebScraperDataSet.csv\", \"a+\", newline=\"\", encoding=\"UTF-8\") as f:\n",
    "    writer = csv.writer(f)\n",
    "    writer.writerow(data)"
   ]
  },
  {
   "cell_type": "code",
   "execution_count": 61,
   "metadata": {},
   "outputs": [],
   "source": [
    "def check_price():\n",
    "    url = 'https://www.amazon.com/Be-Wild-Free-Market-Scientist/dp/B08471P8DV/ref=sr_1_1?crid=1L576Q5SL3TXW&keywords=funny+data+scientist+t+shirt&qid=1705745922&sprefix=data+scientist+t+shirt%2Caps%2C1646&sr=8-1'\n",
    "    headers = {\"User-Agent\": \"Mozilla/5.0 (Windows NT 10.0; Win64; x64) AppleWebKit/537.36 (KHTML, like Gecko) Chrome/78.0.3904.108 Safari/537.36\", \"Accept-Encoding\":\"gzip, deflate\", \"Accept\":\"text/html,application/xhtml+xml,application/xml;q=0.9,*/*;q=0.8\", \"DNT\":\"1\",\"Connection\":\"close\", \"Upgrade-Insecure-Requests\":\"1\"}\n",
    "\n",
    "    page = requests.get(url, headers=headers)\n",
    "    soup1 = BeautifulSoup(page.content, 'html.parser')\n",
    "    soup2 = BeautifulSoup(soup1.prettify(), 'html.parser')\n",
    "\n",
    "    title = soup2.find(id='productTitle').get_text().strip()\n",
    "    price = soup2.find(class_=\"a-offscreen\").get_text().strip()[1:]\n",
    "\n",
    "    import datetime\n",
    "    today = datetime.date.today()\n",
    "\n",
    "    import csv\n",
    "    headers = [\"Title\", \"Price\", \"Date\"]\n",
    "    data = [title, price, today]\n",
    "\n",
    "    with open(\"AmazonWebScraperDataSet.csv\", \"a+\", newline=\"\", encoding=\"UTF-8\") as f:\n",
    "        writer = csv.writer(f)\n",
    "        writer.writerow(data)\n",
    "\n",
    "    if price <= 15:\n",
    "        send_email()"
   ]
  },
  {
   "cell_type": "code",
   "execution_count": 62,
   "metadata": {},
   "outputs": [
    {
     "ename": "TypeError",
     "evalue": "'<' not supported between instances of 'str' and 'int'",
     "output_type": "error",
     "traceback": [
      "\u001b[1;31m---------------------------------------------------------------------------\u001b[0m",
      "\u001b[1;31mTypeError\u001b[0m                                 Traceback (most recent call last)",
      "Cell \u001b[1;32mIn[62], line 3\u001b[0m\n\u001b[0;32m      1\u001b[0m \u001b[38;5;66;03m# Check Price Every Single Day\u001b[39;00m\n\u001b[0;32m      2\u001b[0m \u001b[38;5;28;01mwhile\u001b[39;00m(\u001b[38;5;28;01mTrue\u001b[39;00m):\n\u001b[1;32m----> 3\u001b[0m     \u001b[43mcheck_price\u001b[49m\u001b[43m(\u001b[49m\u001b[43m)\u001b[49m\n\u001b[0;32m      4\u001b[0m     time\u001b[38;5;241m.\u001b[39msleep(\u001b[38;5;241m86400\u001b[39m)\n",
      "Cell \u001b[1;32mIn[61], line 23\u001b[0m, in \u001b[0;36mcheck_price\u001b[1;34m()\u001b[0m\n\u001b[0;32m     20\u001b[0m     writer \u001b[38;5;241m=\u001b[39m csv\u001b[38;5;241m.\u001b[39mwriter(f)\n\u001b[0;32m     21\u001b[0m     writer\u001b[38;5;241m.\u001b[39mwriterow(data)\n\u001b[1;32m---> 23\u001b[0m \u001b[38;5;28;01mif\u001b[39;00m \u001b[43mprice\u001b[49m\u001b[43m \u001b[49m\u001b[38;5;241;43m<\u001b[39;49m\u001b[43m \u001b[49m\u001b[38;5;241;43m14\u001b[39;49m:\n\u001b[0;32m     24\u001b[0m     send_email()\n",
      "\u001b[1;31mTypeError\u001b[0m: '<' not supported between instances of 'str' and 'int'"
     ]
    }
   ],
   "source": [
    "# Check Price Every Single Day\n",
    "while(True):\n",
    "    check_price()\n",
    "    time.sleep(86400)"
   ]
  },
  {
   "cell_type": "code",
   "execution_count": 59,
   "metadata": {},
   "outputs": [
    {
     "name": "stdout",
     "output_type": "stream",
     "text": [
      "                                                Title  Price        Date\n",
      "0   Be Wild and Free Market Seize The Data T Shirt...  23.79  2024-01-20\n",
      "1   Be Wild and Free Market Seize The Data T Shirt...  23.79  2024-01-20\n",
      "2   Be Wild and Free Market Seize The Data T Shirt...  23.79  2024-01-20\n",
      "3   Be Wild and Free Market Seize The Data T Shirt...  23.79  2024-01-20\n",
      "4   Be Wild and Free Market Seize The Data T Shirt...  23.79  2024-01-20\n",
      "5   Be Wild and Free Market Seize The Data T Shirt...  23.79  2024-01-20\n",
      "6   Be Wild and Free Market Seize The Data T Shirt...  23.79  2024-01-20\n",
      "7   Be Wild and Free Market Seize The Data T Shirt...  23.79  2024-01-20\n",
      "8   Be Wild and Free Market Seize The Data T Shirt...  23.79  2024-01-20\n",
      "9   Be Wild and Free Market Seize The Data T Shirt...  23.79  2024-01-20\n",
      "10  Be Wild and Free Market Seize The Data T Shirt...  23.79  2024-01-20\n",
      "11  Be Wild and Free Market Seize The Data T Shirt...  23.79  2024-01-20\n"
     ]
    }
   ],
   "source": [
    "read_csv_file()"
   ]
  },
  {
   "cell_type": "code",
   "execution_count": 60,
   "metadata": {},
   "outputs": [],
   "source": [
    "def send_mail():\n",
    "    server = smtplib.SMTP_SSL('smtp.gmail.com',465)\n",
    "    server.ehlo()\n",
    "    #server.starttls()\n",
    "    server.ehlo()\n",
    "    server.login('mostafamahmoudashour9@gmail.com','xxxxxxxxxxxxxx')\n",
    "    \n",
    "    subject = \"The Shirt you want is below $15! Now is your chance to buy!\"\n",
    "    body = \"Mostafa, This is the moment we have been waiting for. Now is your chance to pick up the shirt of your dreams. Don't mess it up! Link here: https://www.amazon.com/Be-Wild-Free-Market-Scientist/dp/B08471P8DV/ref=sr_1_1?crid=1L576Q5SL3TXW&keywords=funny+data+scientist+t+shirt&qid=1705745922&sprefix=data+scientist+t+shirt%2Caps%2C1646&sr=8-1\"\n",
    "   \n",
    "    msg = f\"Subject: {subject}\\n\\n{body}\"\n",
    "    \n",
    "    server.sendmail(\n",
    "        'mostafamahmoudashour9@gmail.com',\n",
    "        msg\n",
    "     )"
   ]
  },
  {
   "cell_type": "code",
   "execution_count": null,
   "metadata": {},
   "outputs": [],
   "source": []
  }
 ],
 "metadata": {
  "kernelspec": {
   "display_name": "Python 3 (ipykernel)",
   "language": "python",
   "name": "python3"
  },
  "language_info": {
   "codemirror_mode": {
    "name": "ipython",
    "version": 3
   },
   "file_extension": ".py",
   "mimetype": "text/x-python",
   "name": "python",
   "nbconvert_exporter": "python",
   "pygments_lexer": "ipython3",
   "version": "3.11.5"
  }
 },
 "nbformat": 4,
 "nbformat_minor": 4
}
